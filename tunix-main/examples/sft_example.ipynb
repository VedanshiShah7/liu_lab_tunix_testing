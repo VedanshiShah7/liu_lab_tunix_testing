{
 "cells": [
  {
   "cell_type": "markdown",
   "id": "be0d6cd4",
   "metadata": {},
   "source": [
    "# Supervised Fine-Tuning with TUNiX\n",
    "\n",
    "This notebook demonstrates a smoke-test SFT run using TUNiX on a toy Alpaca dataset.\n",
    "\n",
    "---\n",
    "\n",
    "## 1. Setup & Imports"
   ]
  },
  {
   "cell_type": "code",
   "execution_count": 2,
   "id": "3f0ad265",
   "metadata": {},
   "outputs": [
    {
     "name": "stdout",
     "output_type": "stream",
     "text": [
      "Python: 3.12.2 | packaged by conda-forge | (main, Feb 16 2024, 20:54:21) [Clang 16.0.6 ]\n",
      "JAX devices: [CpuDevice(id=0)]\n",
      "Collecting git+https://github.com/google/tunix\n",
      "  Cloning https://github.com/google/tunix to /private/var/folders/f5/vylvqwgn7m93h92p1slfbtvw0000gn/T/pip-req-build-463tmwz_\n",
      "  Running command git clone --filter=blob:none --quiet https://github.com/google/tunix /private/var/folders/f5/vylvqwgn7m93h92p1slfbtvw0000gn/T/pip-req-build-463tmwz_\n",
      "  Resolved https://github.com/google/tunix to commit c0898aac1d0dc76c3badd72ef0293d14da93e406\n",
      "  Installing build dependencies ... \u001b[?25ldone\n",
      "\u001b[?25h  Getting requirements to build wheel ... \u001b[?25ldone\n",
      "\u001b[?25h  Preparing metadata (pyproject.toml) ... \u001b[?25ldone\n",
      "\u001b[?25hRequirement already satisfied: jax in /opt/anaconda3/lib/python3.12/site-packages (from tunix==0.0.0) (0.6.1)\n",
      "Requirement already satisfied: jaxtyping in /opt/anaconda3/lib/python3.12/site-packages (from tunix==0.0.0) (0.3.2)\n",
      "Requirement already satisfied: flax in /opt/anaconda3/lib/python3.12/site-packages (from tunix==0.0.0) (0.10.6)\n",
      "Requirement already satisfied: sentencepiece in /opt/anaconda3/lib/python3.12/site-packages (from tunix==0.0.0) (0.2.0)\n",
      "Requirement already satisfied: tensorboardX in /opt/anaconda3/lib/python3.12/site-packages (from tunix==0.0.0) (2.6.2.2)\n",
      "Requirement already satisfied: tqdm in /opt/anaconda3/lib/python3.12/site-packages (from tunix==0.0.0) (4.66.4)\n",
      "Requirement already satisfied: numpy>=1.23.2 in /opt/anaconda3/lib/python3.12/site-packages (from flax->tunix==0.0.0) (1.26.4)\n",
      "Requirement already satisfied: msgpack in /opt/anaconda3/lib/python3.12/site-packages (from flax->tunix==0.0.0) (1.1.0)\n",
      "Requirement already satisfied: optax in /opt/anaconda3/lib/python3.12/site-packages (from flax->tunix==0.0.0) (0.2.4)\n",
      "Requirement already satisfied: orbax-checkpoint in /opt/anaconda3/lib/python3.12/site-packages (from flax->tunix==0.0.0) (0.11.13)\n",
      "Requirement already satisfied: tensorstore in /opt/anaconda3/lib/python3.12/site-packages (from flax->tunix==0.0.0) (0.1.75)\n",
      "Requirement already satisfied: rich>=11.1 in /opt/anaconda3/lib/python3.12/site-packages (from flax->tunix==0.0.0) (13.0.1)\n",
      "Requirement already satisfied: typing_extensions>=4.2 in /opt/anaconda3/lib/python3.12/site-packages (from flax->tunix==0.0.0) (4.12.2)\n",
      "Requirement already satisfied: PyYAML>=5.4.1 in /opt/anaconda3/lib/python3.12/site-packages (from flax->tunix==0.0.0) (6.0.2)\n",
      "Requirement already satisfied: treescope>=0.1.7 in /opt/anaconda3/lib/python3.12/site-packages (from flax->tunix==0.0.0) (0.1.9)\n",
      "Requirement already satisfied: jaxlib<=0.6.1,>=0.6.1 in /opt/anaconda3/lib/python3.12/site-packages (from jax->tunix==0.0.0) (0.6.1)\n",
      "Requirement already satisfied: ml_dtypes>=0.5.0 in /opt/anaconda3/lib/python3.12/site-packages (from jax->tunix==0.0.0) (0.5.1)\n",
      "Requirement already satisfied: opt_einsum in /opt/anaconda3/lib/python3.12/site-packages (from jax->tunix==0.0.0) (3.4.0)\n",
      "Requirement already satisfied: scipy>=1.11.1 in /opt/anaconda3/lib/python3.12/site-packages (from jax->tunix==0.0.0) (1.13.1)\n",
      "Requirement already satisfied: wadler-lindig>=0.1.3 in /opt/anaconda3/lib/python3.12/site-packages (from jaxtyping->tunix==0.0.0) (0.1.6)\n",
      "Requirement already satisfied: packaging in /opt/anaconda3/lib/python3.12/site-packages (from tensorboardX->tunix==0.0.0) (23.2)\n",
      "Requirement already satisfied: protobuf>=3.20 in /opt/anaconda3/lib/python3.12/site-packages (from tensorboardX->tunix==0.0.0) (4.25.7)\n",
      "Requirement already satisfied: commonmark<0.10.0,>=0.9.0 in /opt/anaconda3/lib/python3.12/site-packages (from rich>=11.1->flax->tunix==0.0.0) (0.9.1)\n",
      "Requirement already satisfied: pygments<3.0.0,>=2.6.0 in /opt/anaconda3/lib/python3.12/site-packages (from rich>=11.1->flax->tunix==0.0.0) (2.15.1)\n",
      "Requirement already satisfied: absl-py>=0.7.1 in /opt/anaconda3/lib/python3.12/site-packages (from optax->flax->tunix==0.0.0) (2.1.0)\n",
      "Requirement already satisfied: chex>=0.1.87 in /opt/anaconda3/lib/python3.12/site-packages (from optax->flax->tunix==0.0.0) (0.1.89)\n",
      "Requirement already satisfied: etils[epy] in /opt/anaconda3/lib/python3.12/site-packages (from optax->flax->tunix==0.0.0) (1.12.2)\n",
      "Requirement already satisfied: nest_asyncio in /opt/anaconda3/lib/python3.12/site-packages (from orbax-checkpoint->flax->tunix==0.0.0) (1.6.0)\n",
      "Requirement already satisfied: humanize in /opt/anaconda3/lib/python3.12/site-packages (from orbax-checkpoint->flax->tunix==0.0.0) (4.12.3)\n",
      "Requirement already satisfied: simplejson>=3.16.0 in /opt/anaconda3/lib/python3.12/site-packages (from orbax-checkpoint->flax->tunix==0.0.0) (3.20.1)\n",
      "Requirement already satisfied: setuptools in /opt/anaconda3/lib/python3.12/site-packages (from chex>=0.1.87->optax->flax->tunix==0.0.0) (75.8.0)\n",
      "Requirement already satisfied: toolz>=0.9.0 in /opt/anaconda3/lib/python3.12/site-packages (from chex>=0.1.87->optax->flax->tunix==0.0.0) (0.12.0)\n",
      "Requirement already satisfied: fsspec in /opt/anaconda3/lib/python3.12/site-packages (from etils[epath,epy]->orbax-checkpoint->flax->tunix==0.0.0) (2024.9.0)\n",
      "Requirement already satisfied: importlib_resources in /opt/anaconda3/lib/python3.12/site-packages (from etils[epath,epy]->orbax-checkpoint->flax->tunix==0.0.0) (6.5.2)\n",
      "Requirement already satisfied: zipp in /opt/anaconda3/lib/python3.12/site-packages (from etils[epath,epy]->orbax-checkpoint->flax->tunix==0.0.0) (3.17.0)\n"
     ]
    }
   ],
   "source": [
    "# Make sure you're on TPU or GPU runtime\n",
    "import sys, os\n",
    "print(\"Python:\", sys.version)\n",
    "import jax, flax\n",
    "print(\"JAX devices:\", jax.devices())\n",
    "\n",
    "# Install TUNiX if not already in your PYTHONPATH\n",
    "!pip install --upgrade git+https://github.com/google/tunix\n",
    "\n",
    "# Core imports\n",
    "from tunix import sft\n",
    "import yaml\n"
   ]
  },
  {
   "cell_type": "markdown",
   "id": "46182675",
   "metadata": {},
   "source": []
  },
  {
   "cell_type": "markdown",
   "id": "90a62ac8",
   "metadata": {},
   "source": [
    "# load or inspect data"
   ]
  },
  {
   "cell_type": "code",
   "execution_count": 3,
   "id": "ae2b4436",
   "metadata": {},
   "outputs": [
    {
     "ename": "FileNotFoundError",
     "evalue": "[Errno 2] No such file or directory: 'data/alpaca_sample.jsonl'",
     "output_type": "error",
     "traceback": [
      "\u001b[0;31m---------------------------------------------------------------------------\u001b[0m",
      "\u001b[0;31mFileNotFoundError\u001b[0m                         Traceback (most recent call last)",
      "Cell \u001b[0;32mIn[3], line 7\u001b[0m\n\u001b[1;32m      4\u001b[0m DATA_PATH \u001b[38;5;241m=\u001b[39m \u001b[38;5;124m\"\u001b[39m\u001b[38;5;124mdata/alpaca_sample.jsonl\u001b[39m\u001b[38;5;124m\"\u001b[39m\n\u001b[1;32m      6\u001b[0m \u001b[38;5;66;03m# Read first few examples\u001b[39;00m\n\u001b[0;32m----> 7\u001b[0m \u001b[38;5;28;01mwith\u001b[39;00m \u001b[38;5;28mopen\u001b[39m(DATA_PATH) \u001b[38;5;28;01mas\u001b[39;00m f:\n\u001b[1;32m      8\u001b[0m     lines \u001b[38;5;241m=\u001b[39m [json\u001b[38;5;241m.\u001b[39mloads(\u001b[38;5;28mnext\u001b[39m(f)) \u001b[38;5;28;01mfor\u001b[39;00m _ \u001b[38;5;129;01min\u001b[39;00m \u001b[38;5;28mrange\u001b[39m(\u001b[38;5;241m2\u001b[39m)]\n\u001b[1;32m      9\u001b[0m \u001b[38;5;28;01mfor\u001b[39;00m ex \u001b[38;5;129;01min\u001b[39;00m lines:\n",
      "File \u001b[0;32m/opt/anaconda3/lib/python3.12/site-packages/IPython/core/interactiveshell.py:324\u001b[0m, in \u001b[0;36m_modified_open\u001b[0;34m(file, *args, **kwargs)\u001b[0m\n\u001b[1;32m    317\u001b[0m \u001b[38;5;28;01mif\u001b[39;00m file \u001b[38;5;129;01min\u001b[39;00m {\u001b[38;5;241m0\u001b[39m, \u001b[38;5;241m1\u001b[39m, \u001b[38;5;241m2\u001b[39m}:\n\u001b[1;32m    318\u001b[0m     \u001b[38;5;28;01mraise\u001b[39;00m \u001b[38;5;167;01mValueError\u001b[39;00m(\n\u001b[1;32m    319\u001b[0m         \u001b[38;5;124mf\u001b[39m\u001b[38;5;124m\"\u001b[39m\u001b[38;5;124mIPython won\u001b[39m\u001b[38;5;124m'\u001b[39m\u001b[38;5;124mt let you open fd=\u001b[39m\u001b[38;5;132;01m{\u001b[39;00mfile\u001b[38;5;132;01m}\u001b[39;00m\u001b[38;5;124m by default \u001b[39m\u001b[38;5;124m\"\u001b[39m\n\u001b[1;32m    320\u001b[0m         \u001b[38;5;124m\"\u001b[39m\u001b[38;5;124mas it is likely to crash IPython. If you know what you are doing, \u001b[39m\u001b[38;5;124m\"\u001b[39m\n\u001b[1;32m    321\u001b[0m         \u001b[38;5;124m\"\u001b[39m\u001b[38;5;124myou can use builtins\u001b[39m\u001b[38;5;124m'\u001b[39m\u001b[38;5;124m open.\u001b[39m\u001b[38;5;124m\"\u001b[39m\n\u001b[1;32m    322\u001b[0m     )\n\u001b[0;32m--> 324\u001b[0m \u001b[38;5;28;01mreturn\u001b[39;00m io_open(file, \u001b[38;5;241m*\u001b[39margs, \u001b[38;5;241m*\u001b[39m\u001b[38;5;241m*\u001b[39mkwargs)\n",
      "\u001b[0;31mFileNotFoundError\u001b[0m: [Errno 2] No such file or directory: 'data/alpaca_sample.jsonl'"
     ]
    }
   ],
   "source": [
    "import json\n",
    "\n",
    "# Path to your sample JSONL\n",
    "DATA_PATH = \"data/alpaca_sample.jsonl\"\n",
    "\n",
    "# Read first few examples\n",
    "with open(DATA_PATH) as f:\n",
    "    lines = [json.loads(next(f)) for _ in range(2)]\n",
    "for ex in lines:\n",
    "    print(\"IN:\", ex[\"instruction\"])\n",
    "    print(\"OUT:\", ex[\"output\"], \"\\n\")\n"
   ]
  },
  {
   "cell_type": "code",
   "execution_count": null,
   "id": "996bef27",
   "metadata": {},
   "outputs": [],
   "source": []
  }
 ],
 "metadata": {
  "kernelspec": {
   "display_name": "base",
   "language": "python",
   "name": "python3"
  },
  "language_info": {
   "codemirror_mode": {
    "name": "ipython",
    "version": 3
   },
   "file_extension": ".py",
   "mimetype": "text/x-python",
   "name": "python",
   "nbconvert_exporter": "python",
   "pygments_lexer": "ipython3",
   "version": "3.12.2"
  }
 },
 "nbformat": 4,
 "nbformat_minor": 5
}
